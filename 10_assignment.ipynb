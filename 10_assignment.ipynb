{
 "cells": [
  {
   "cell_type": "code",
   "execution_count": 1,
   "id": "2c0685f9-7b9f-4c52-ac1b-a207c5247c4b",
   "metadata": {},
   "outputs": [],
   "source": [
    "# Q1. How do you comment code in Python? What are the different types of comments?"
   ]
  },
  {
   "cell_type": "code",
   "execution_count": 2,
   "id": "0ec56b98-59af-41b8-84ba-18948ff28544",
   "metadata": {},
   "outputs": [],
   "source": [
    "# to add a comment use # at start "
   ]
  },
  {
   "cell_type": "code",
   "execution_count": 4,
   "id": "8367278f-226a-4e0a-82a6-24d8aa4d99ad",
   "metadata": {},
   "outputs": [
    {
     "data": {
      "text/plain": [
       "' 2 types of comment \\n1.) single line \\n2.) multiple line '"
      ]
     },
     "execution_count": 4,
     "metadata": {},
     "output_type": "execute_result"
    }
   ],
   "source": [
    "''' 2 types of comment \n",
    "1.) single line  using # \n",
    "2.) multiple line using 3'''"
   ]
  },
  {
   "cell_type": "code",
   "execution_count": 5,
   "id": "6496eb0d-6729-4c27-8961-da64fd407298",
   "metadata": {},
   "outputs": [],
   "source": [
    "#Q2. What are variables in Python? How do you declare and assign values to variables?"
   ]
  },
  {
   "cell_type": "code",
   "execution_count": 6,
   "id": "2b1627c1-9c52-4ef0-a913-7ed2e5a60096",
   "metadata": {},
   "outputs": [
    {
     "data": {
      "text/plain": [
       "int"
      ]
     },
     "execution_count": 6,
     "metadata": {},
     "output_type": "execute_result"
    }
   ],
   "source": [
    "# variable are like container which store the value/ data .\n",
    "a = 7\n",
    "type(a)"
   ]
  },
  {
   "cell_type": "code",
   "execution_count": 7,
   "id": "9aba5c03-7589-47da-9212-34ca4d05d5bf",
   "metadata": {},
   "outputs": [],
   "source": [
    "# Q3. How do you convert one data type to another in Python?"
   ]
  },
  {
   "cell_type": "code",
   "execution_count": 8,
   "id": "adce4f35-dd69-48f0-adb8-db763565f3f8",
   "metadata": {},
   "outputs": [],
   "source": [
    "# using type casting "
   ]
  },
  {
   "cell_type": "code",
   "execution_count": 10,
   "id": "d1d08fd2-2d6f-49e3-975b-fedce6c6e955",
   "metadata": {},
   "outputs": [
    {
     "data": {
      "text/plain": [
       "str"
      ]
     },
     "execution_count": 10,
     "metadata": {},
     "output_type": "execute_result"
    }
   ],
   "source": [
    "a = '12'\n",
    "type(a)"
   ]
  },
  {
   "cell_type": "code",
   "execution_count": 12,
   "id": "636018a3-09a5-4275-9248-4dc47b0b86c3",
   "metadata": {},
   "outputs": [
    {
     "data": {
      "text/plain": [
       "int"
      ]
     },
     "execution_count": 12,
     "metadata": {},
     "output_type": "execute_result"
    }
   ],
   "source": [
    "a = int(a)  # type casting \n",
    "type(a)"
   ]
  },
  {
   "cell_type": "code",
   "execution_count": 13,
   "id": "4ef7a2de-a981-4cc4-8b9a-afd6152e6383",
   "metadata": {},
   "outputs": [],
   "source": [
    "#Q4. How do you write and execute a Python script from the command line?"
   ]
  },
  {
   "cell_type": "code",
   "execution_count": 15,
   "id": "0d80e169-ab0d-48c4-86f0-5d8871052109",
   "metadata": {},
   "outputs": [
    {
     "data": {
      "text/plain": [
       "' open command prompt \\n    write python , then write your code or script and then write exit  in last to exit ().'"
      ]
     },
     "execution_count": 15,
     "metadata": {},
     "output_type": "execute_result"
    }
   ],
   "source": [
    "''' open command prompt \n",
    "    write python , then write your code or script and then write exit  in last to exit ().'''"
   ]
  },
  {
   "cell_type": "code",
   "execution_count": 16,
   "id": "85195fbf-eb85-4680-9d5f-bb5c2472e5be",
   "metadata": {},
   "outputs": [],
   "source": [
    "#Q5. Given a list my_list = [1, 2, 3, 4, 5], write the code to slice the list and obtain the sub-list [2, 3]."
   ]
  },
  {
   "cell_type": "code",
   "execution_count": 17,
   "id": "aa98c8c1-8c54-454e-9d62-faef3318602d",
   "metadata": {},
   "outputs": [],
   "source": [
    "my_list = [1, 2, 3, 4, 5]"
   ]
  },
  {
   "cell_type": "code",
   "execution_count": 18,
   "id": "823c918a-03d1-44ec-bb28-01cadf2d9563",
   "metadata": {},
   "outputs": [
    {
     "data": {
      "text/plain": [
       "[2, 3]"
      ]
     },
     "execution_count": 18,
     "metadata": {},
     "output_type": "execute_result"
    }
   ],
   "source": [
    "my_list[1:3]"
   ]
  },
  {
   "cell_type": "code",
   "execution_count": null,
   "id": "d1b521f1-277a-4e26-bb70-1e18d379a55e",
   "metadata": {},
   "outputs": [],
   "source": []
  },
  {
   "cell_type": "code",
   "execution_count": 19,
   "id": "fb11623f-686b-4aa0-8f45-77d4f10f3d3e",
   "metadata": {},
   "outputs": [],
   "source": [
    "#Q6 What is a complex number in mathematics, and how is it represented in Python?"
   ]
  },
  {
   "cell_type": "code",
   "execution_count": 20,
   "id": "5e900e2a-2afc-467b-825a-4e171e3d6207",
   "metadata": {},
   "outputs": [
    {
     "data": {
      "text/plain": [
       "\"the numbers that are expressed in the form of a+ib where, a,b are real numbers and 'i' is an imaginary number called “iota\""
      ]
     },
     "execution_count": 20,
     "metadata": {},
     "output_type": "execute_result"
    }
   ],
   "source": [
    "'''the numbers that are expressed in the form of a+ib where, a,b are real numbers and 'i' is an imaginary number called “iota'''"
   ]
  },
  {
   "cell_type": "code",
   "execution_count": 22,
   "id": "e1ea059a-a70f-4998-a70c-42292a4d252d",
   "metadata": {},
   "outputs": [
    {
     "data": {
      "text/plain": [
       "complex"
      ]
     },
     "execution_count": 22,
     "metadata": {},
     "output_type": "execute_result"
    }
   ],
   "source": [
    "a = 6 +18j\n",
    "type(a)"
   ]
  },
  {
   "cell_type": "code",
   "execution_count": 26,
   "id": "c6b1ed8b-89b3-4e6b-b944-d3d616969352",
   "metadata": {},
   "outputs": [
    {
     "data": {
      "text/plain": [
       "6.0"
      ]
     },
     "execution_count": 26,
     "metadata": {},
     "output_type": "execute_result"
    }
   ],
   "source": [
    "a.real\n"
   ]
  },
  {
   "cell_type": "code",
   "execution_count": 27,
   "id": "f20b428d-7a5b-4bc5-bac6-379a3334b2f1",
   "metadata": {},
   "outputs": [
    {
     "data": {
      "text/plain": [
       "18.0"
      ]
     },
     "execution_count": 27,
     "metadata": {},
     "output_type": "execute_result"
    }
   ],
   "source": [
    "a.imag"
   ]
  },
  {
   "cell_type": "code",
   "execution_count": null,
   "id": "6716da65-1917-497c-8e4e-722814384e19",
   "metadata": {},
   "outputs": [],
   "source": []
  },
  {
   "cell_type": "code",
   "execution_count": 28,
   "id": "6f2078bd-ee77-44e0-bd15-d0fec13feb62",
   "metadata": {},
   "outputs": [],
   "source": [
    "# Q7. What is the correct way to declare a variable named age and assign the value 25 to it?"
   ]
  },
  {
   "cell_type": "code",
   "execution_count": 31,
   "id": "811e9bda-6703-4171-8c7d-09110ca8ca8c",
   "metadata": {},
   "outputs": [
    {
     "data": {
      "text/plain": [
       "int"
      ]
     },
     "execution_count": 31,
     "metadata": {},
     "output_type": "execute_result"
    }
   ],
   "source": [
    "age = 25 \n",
    "type(age)"
   ]
  },
  {
   "cell_type": "code",
   "execution_count": null,
   "id": "47ae9a0a-6089-49d1-8fd1-45988c8f0701",
   "metadata": {},
   "outputs": [],
   "source": []
  },
  {
   "cell_type": "code",
   "execution_count": 32,
   "id": "e8143f40-c867-4d66-a6f9-86342f48e09f",
   "metadata": {},
   "outputs": [],
   "source": [
    "#Q8. Declare a variable named price and assign the value 9.99 to it. What data type does this variable belong to?"
   ]
  },
  {
   "cell_type": "code",
   "execution_count": 34,
   "id": "10eb8bf8-3e44-4291-ab7c-40023b7cda48",
   "metadata": {},
   "outputs": [
    {
     "data": {
      "text/plain": [
       "float"
      ]
     },
     "execution_count": 34,
     "metadata": {},
     "output_type": "execute_result"
    }
   ],
   "source": [
    "price  = 9.99\n",
    "type(price)"
   ]
  },
  {
   "cell_type": "code",
   "execution_count": null,
   "id": "cf8b44aa-041c-447f-a37c-232ff6839365",
   "metadata": {},
   "outputs": [],
   "source": []
  },
  {
   "cell_type": "code",
   "execution_count": 36,
   "id": "d09e669d-77be-44a1-a4a3-49a5a7b9d195",
   "metadata": {},
   "outputs": [],
   "source": [
    "#Q9. Create a variable named name and assign your full name to it as a string. How would you print the\n",
    "#     value of this variable?"
   ]
  },
  {
   "cell_type": "code",
   "execution_count": 37,
   "id": "4fe7c6a1-f5f2-4dd4-88a1-46e93c5ee3dc",
   "metadata": {},
   "outputs": [],
   "source": [
    "name = 'harsh kumar'"
   ]
  },
  {
   "cell_type": "code",
   "execution_count": 38,
   "id": "945d107b-aa4e-436d-8826-086757365fcf",
   "metadata": {},
   "outputs": [
    {
     "name": "stdout",
     "output_type": "stream",
     "text": [
      "h\n",
      "a\n",
      "r\n",
      "s\n",
      "h\n",
      " \n",
      "k\n",
      "u\n",
      "m\n",
      "a\n",
      "r\n"
     ]
    }
   ],
   "source": [
    "for i in name :\n",
    "    print(i)"
   ]
  },
  {
   "cell_type": "code",
   "execution_count": null,
   "id": "64bc13a0-a3db-4759-bfb6-9bcd4229d26e",
   "metadata": {},
   "outputs": [],
   "source": []
  },
  {
   "cell_type": "code",
   "execution_count": 39,
   "id": "6c3fb09c-2b41-4547-863b-8a91161dfec5",
   "metadata": {},
   "outputs": [],
   "source": [
    "# Q10. Given the string \"Hello, World!\", extract the substring \"World\"."
   ]
  },
  {
   "cell_type": "code",
   "execution_count": 40,
   "id": "7b9587e3-da77-47bc-b041-a98f9b042911",
   "metadata": {},
   "outputs": [],
   "source": [
    "a = 'Hello World'"
   ]
  },
  {
   "cell_type": "code",
   "execution_count": 41,
   "id": "e33b30be-6647-44e6-a7f8-6dc377aa0d80",
   "metadata": {},
   "outputs": [
    {
     "data": {
      "text/plain": [
       "'World'"
      ]
     },
     "execution_count": 41,
     "metadata": {},
     "output_type": "execute_result"
    }
   ],
   "source": [
    "a[6::]"
   ]
  },
  {
   "cell_type": "code",
   "execution_count": null,
   "id": "c1d6ec73-7249-4e8c-bf99-330161d408d3",
   "metadata": {},
   "outputs": [],
   "source": []
  },
  {
   "cell_type": "code",
   "execution_count": 42,
   "id": "56052070-6353-464d-8017-7621109be841",
   "metadata": {},
   "outputs": [],
   "source": [
    "#Q11. Create a variable named \"is_student\" and assign it a boolean value indicating whether you are\n",
    "#     currently a student or not."
   ]
  },
  {
   "cell_type": "code",
   "execution_count": 45,
   "id": "f258f52a-158d-4e3f-9f70-7320f8e0e219",
   "metadata": {},
   "outputs": [
    {
     "name": "stdout",
     "output_type": "stream",
     "text": [
      "is_student\n"
     ]
    }
   ],
   "source": [
    "'is_student' == True\n",
    "print('is_student')"
   ]
  },
  {
   "cell_type": "code",
   "execution_count": null,
   "id": "ccfa2af1-3bbb-40ae-b989-5bd40fba6a74",
   "metadata": {},
   "outputs": [],
   "source": []
  }
 ],
 "metadata": {
  "kernelspec": {
   "display_name": "Python 3 (ipykernel)",
   "language": "python",
   "name": "python3"
  },
  "language_info": {
   "codemirror_mode": {
    "name": "ipython",
    "version": 3
   },
   "file_extension": ".py",
   "mimetype": "text/x-python",
   "name": "python",
   "nbconvert_exporter": "python",
   "pygments_lexer": "ipython3",
   "version": "3.10.8"
  }
 },
 "nbformat": 4,
 "nbformat_minor": 5
}
